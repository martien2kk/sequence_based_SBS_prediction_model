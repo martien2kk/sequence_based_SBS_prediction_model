{
 "cells": [
  {
   "cell_type": "markdown",
   "metadata": {},
   "source": [
    "# Random Forest Model\n",
    "\n",
    "Binary classifier of SBS04 and SBS13  \n",
    "15 bp on either side of the mutation  \n",
    "k-mers = 4  "
   ]
  },
  {
   "cell_type": "markdown",
   "metadata": {},
   "source": [
    "### Load Packages in R"
   ]
  },
  {
   "cell_type": "code",
   "execution_count": null,
   "metadata": {
    "vscode": {
     "languageId": "plaintext"
    }
   },
   "outputs": [],
   "source": [
    "library(Biostrings)\n",
    "library(dplyr)\n",
    "library(ggplot2)\n",
    "library(BSgenome)\n",
    "library(GenomicRanges)\n",
    "library(reshape2)\n",
    "library(xtable)\n",
    "library(tidyr)\n",
    "library(randomForest)\n",
    "library(caret)\n",
    "library(PRROC)\n",
    "library(pROC)\n",
    "library(Rtsne)\n",
    "library(pheatmap)\n",
    "# library(iml)\n",
    "# library(shapr)\n",
    "library(ranger)\n",
    "library(kernelshap)\n",
    "library(shapviz)\n",
    "library(BSgenome.Hsapiens.UCSC.hg19)\n",
    "\n",
    "#get workdir\n",
    "getwd()"
   ]
  },
  {
   "cell_type": "markdown",
   "metadata": {},
   "source": [
    "### Load Data and Count SBS Signatre for the data "
   ]
  },
  {
   "cell_type": "code",
   "execution_count": null,
   "metadata": {
    "vscode": {
     "languageId": "plaintext"
    }
   },
   "outputs": [],
   "source": [
    "# Read mutation file\n",
    "mutation_file <- \"./PCAWG/lung_scc_muts_final.txt\"\n",
    "mutations <- read.table(mutation_file, header = TRUE, stringsAsFactors = FALSE, row.names = NULL)\n",
    "# Read SBS signature file\n",
    "sbs_file <- \"./PCAWG/lung_scc_sig_final.txt\"\n",
    "sbs_signatures <- readLines(sbs_file)\n",
    "# Combine the mutation data and signature data into a single dataframe\n",
    "combined_data <- data.frame(mutations, Signature = sbs_signatures)\n",
    "# combined_data <- head(combined_data, 1000)\n",
    "#How many mutation in the SBS signature\n",
    "# Modify the Signature column\n",
    "combined_data$Signature <- ifelse(combined_data$Signature == \"-\", \"Missing\", paste0(\"SBS\", combined_data$Signature))\n",
    "# Count the number of mutations in each SBS signature\n",
    "signature_counts <- table(combined_data$Signature)\n",
    "# Display the counts\n",
    "# print(signature_counts)\n",
    "# Bar plot for mutation signature counts\n",
    "barplot(signature_counts, \n",
    "        main = \"Mutation Signature Counts\", \n",
    "        xlab = \"Signature\", \n",
    "        ylab = \"Count\", \n",
    "        las = 2,          # Rotate labels to be perpendicular to the axis\n",
    "        cex.names = 0.8)  # Adjust text size of labels"
   ]
  },
  {
   "cell_type": "markdown",
   "metadata": {},
   "source": [
    "Using the barplot above, isolate for the two most abundant, or the two most distinct SBS signatures. That will be used for the binary classifier"
   ]
  },
  {
   "cell_type": "markdown",
   "metadata": {},
   "source": [
    "### Retrieve Flanking Sequences\n",
    "\n",
    "The genomicRanges R package will be used\n",
    "\n",
    "For this example, 15 bp on either side will be used"
   ]
  },
  {
   "cell_type": "code",
   "execution_count": null,
   "metadata": {
    "vscode": {
     "languageId": "plaintext"
    }
   },
   "outputs": [],
   "source": [
    "# Get hg19 reference sequence of GRanges object\n",
    "get_hg19_seq <- function(gr, return.DNAStringSet = FALSE) {\n",
    "  if (return.DNAStringSet) {\n",
    "    return(BSgenome::getSeq(BSgenome.Hsapiens.UCSC.hg19::Hsapiens, gr))\n",
    "  } else {\n",
    "    return(as.character(BSgenome::getSeq(BSgenome.Hsapiens.UCSC.hg19::Hsapiens, gr)))\n",
    "  }\n",
    "}\n",
    "# Create a GRanges object from mutation data\n",
    "mutations_gr <- GRanges(seqnames = combined_data$chr,\n",
    "                         ranges = IRanges(start = combined_data$start - 15,\n",
    "                                          end = combined_data$end + 15))\n",
    "# Extract sequences\n",
    "mutation_sequences <- get_hg19_seq(mutations_gr, return.DNAStringSet = TRUE)\n",
    "# Create names for the sequences\n",
    "sequence_names <- paste(combined_data$chr, combined_data$start, combined_data$end, sep = \":\")\n",
    "# Assign the names to the sequences\n",
    "names(mutation_sequences) <- sequence_names\n",
    "# Save sequences to a file\n",
    "# writeXStringSet(mutation_sequences, filepath = \"mutation_sequences.fa\")\n",
    "# Convert DNAStringSet to a character vector\n",
    "mutation_sequence_vector <- as.character(mutation_sequences)\n",
    "# Add this vector as a new column to combined_data\n",
    "combined_data$sequences <- mutation_sequence_vector\n",
    "\n",
    "head(combined_data)"
   ]
  },
  {
   "cell_type": "markdown",
   "metadata": {},
   "source": [
    "### Filter Data"
   ]
  },
  {
   "cell_type": "code",
   "execution_count": null,
   "metadata": {
    "vscode": {
     "languageId": "plaintext"
    }
   },
   "outputs": [],
   "source": [
    "set.seed(2024)\n",
    "\n",
    "# Determine the minimum number of occurrences between SBS013 and SBS04\n",
    "min_count <- min(sum(combined_data$Signature == \"SBS13\"), sum(combined_data$Signature == \"SBS04\"))\n",
    "\n",
    "# Sample the same number of rows for each signature\n",
    "subset_sbs13 <- combined_data[combined_data$Signature == \"SBS13\", ]\n",
    "subset_sbs04 <- combined_data[combined_data$Signature == \"SBS04\", ]\n",
    "\n",
    "# Downsample or upsample to the smaller class size\n",
    "subset_sbs13 <- subset_sbs13[sample(nrow(subset_sbs13), min_count), ]\n",
    "subset_sbs04 <- subset_sbs04[sample(nrow(subset_sbs04), min_count), ]\n",
    "\n",
    "# Combine the two balanced subsets\n",
    "subset_data <- rbind(subset_sbs13, subset_sbs04)\n",
    "\n",
    "# Randomly sample 100,000 rows from the balanced data\n",
    "subset_data <- subset_data[sample(nrow(subset_data), 185100), ]\n",
    "\n",
    "# Check the last 10 rows\n",
    "tail(subset_data, 10)"
   ]
  },
  {
   "cell_type": "markdown",
   "metadata": {},
   "source": [
    "### Generate K-mers\n",
    "\n",
    "Testing with all features as a reference. \n",
    "\n",
    "```generate_canonical_kmers```: function to generate kmers; accounts for compliments using the ```reverseComplement``` function  \n",
    "```k <- 4```: k is set to 4 in this example  \n",
    "```encoded_kmers```: encode k-mers as vectors   \n"
   ]
  },
  {
   "cell_type": "code",
   "execution_count": null,
   "metadata": {
    "vscode": {
     "languageId": "plaintext"
    }
   },
   "outputs": [],
   "source": [
    "generate_canonical_kmers <- function(sequence, k) {\n",
    "  n <- nchar(sequence)\n",
    "  \n",
    "  # Check if sequence length is less than k\n",
    "  if (((n - 3) / 2) < k) {\n",
    "    stop(\"Sequence length is less than k. Cannot generate k-mers.\")\n",
    "  }\n",
    "  \n",
    "  middle <- n %/% 2  # Assuming mutation site is in the middle\n",
    "  \n",
    "  left_flank <- substr(sequence, 1, middle - 1)\n",
    "  right_flank <- substr(sequence, middle + 3, n)\n",
    "  \n",
    "  kmers_left <- sapply(1:(nchar(left_flank) - k + 1), function(i) {\n",
    "    kmer <- substr(left_flank, i, i + k - 1)\n",
    "    rev_comp <- as.character(reverseComplement(DNAString(kmer)))\n",
    "    return(min(kmer, rev_comp))\n",
    "  })\n",
    "  \n",
    "  kmers_right <- sapply(1:(nchar(right_flank) - k + 1), function(i) {\n",
    "    kmer <- substr(right_flank, i, i + k - 1)\n",
    "    rev_comp <- as.character(reverseComplement(DNAString(kmer)))\n",
    "    return(min(kmer, rev_comp))\n",
    "  })\n",
    "  \n",
    "  return(c(kmers_left, kmers_right))\n",
    "}\n",
    "\n",
    "# Set k value for k-mers\n",
    "k <- 4\n",
    "\n",
    "# Generate canonical k-mers for each sequence in the dataset\n",
    "kmer_list <- lapply(subset_data$sequences, generate_canonical_kmers, k = k)\n",
    "\n",
    "# Get all unique canonical k-mers to create feature space\n",
    "all_kmers <- unique(unlist(kmer_list))\n",
    "\n",
    "# Function to encode k-mers\n",
    "encode_kmers <- function(kmers, all_kmers) {\n",
    "  kmer_table <- table(factor(kmers, levels = all_kmers))\n",
    "  return(as.numeric(kmer_table))\n",
    "}\n",
    "\n",
    "# Encode sequences as k-mer vectors\n",
    "encoded_kmers <- t(sapply(kmer_list, encode_kmers, all_kmers = all_kmers))\n",
    "colnames(encoded_kmers) <- all_kmers\n"
   ]
  },
  {
   "cell_type": "markdown",
   "metadata": {},
   "source": [
    "### Extract Nucleotides and Set Features\n",
    "\n",
    "```ref```: mutation site, midlle nucleotide  \n",
    "```alt```: the nucleotide that the orignal bp mutates to  \n",
    "```left_nucleotide```: the nucleotide on the left side of the mutation; part of the trinucleotide  \n",
    "```right_nucleotide```: the nucleotide on the right side of the mutation; part of the trinucleotide  \n"
   ]
  },
  {
   "cell_type": "code",
   "execution_count": null,
   "metadata": {
    "vscode": {
     "languageId": "plaintext"
    }
   },
   "outputs": [],
   "source": [
    "# Function to extract the flanking nucleotides and the alt nucleotide\n",
    "extract_features <- function(sequence, ref, alt) {\n",
    "  n <- nchar(sequence)\n",
    "  middle <- n %/% 2  # Assuming mutation site is in the middle\n",
    "  left_flank_nucleotide <- substr(sequence, middle, middle)\n",
    "  right_flank_nucleotide <- substr(sequence, middle + 2, middle + 2)\n",
    "  return(c(left_flank_nucleotide, right_flank_nucleotide, ref, alt))\n",
    "}\n",
    "\n",
    "# Apply the function to extract the features for each row in the dataset\n",
    "flanking_nucleotides <- t(apply(subset_data, 1, function(row) {\n",
    "  extract_features(row[\"sequences\"], row[\"ref\"], row[\"alt\"])\n",
    "}))\n",
    "\n",
    "# Convert the extracted features to a dataframe\n",
    "flanking_nucleotides_df <- as.data.frame(flanking_nucleotides, stringsAsFactors = FALSE)\n",
    "colnames(flanking_nucleotides_df) <- c(\"left_nucleotide\", \"right_nucleotide\", \"ref\", \"alt\")\n",
    "\n",
    "# Create the feature matrix\n",
    "X <- as.data.frame(encoded_kmers)\n",
    "X <- cbind(X, flanking_nucleotides_df)\n",
    "head(X,10)\n",
    "\n",
    "# Encode the flanking nucleotides and alt features as factors\n",
    "X$left_nucleotide <- as.factor(X$left_nucleotide)\n",
    "X$right_nucleotide <- as.factor(X$right_nucleotide)\n",
    "X$alt <- as.factor(X$alt)\n",
    "X$ref <- as.factor(X$ref)\n",
    "\n",
    "\n",
    "# Encode the target variable\n",
    "y <- as.integer(factor(subset_data$Signature, levels = c(\"SBS04\", \"SBS13\"))) - 1  # Encode SBS04 as 0 and SBS13 as 1\n",
    "\n",
    "# Split data into train and test sets\n",
    "set.seed(2024)  # for reproducibility\n",
    "train_indices <- sample(seq_len(nrow(X)), size = 0.8 * nrow(X))\n",
    "X_train <- X[train_indices, ]\n",
    "y_train <- y[train_indices]\n",
    "X_test <- X[-train_indices, ]\n",
    "y_test <- y[-train_indices]\n"
   ]
  },
  {
   "cell_type": "markdown",
   "metadata": {},
   "source": [
    "### Calculating SHAP score"
   ]
  },
  {
   "cell_type": "code",
   "execution_count": null,
   "metadata": {
    "vscode": {
     "languageId": "plaintext"
    }
   },
   "outputs": [],
   "source": [
    "# Fitting the model\n",
    "fit <- ranger(as.factor(y_train) ~ ., data = X_train, num.trees = 100)  # Reduce number of trees for faster training\n",
    "\n",
    "# Model predictions and evaluation\n",
    "y_pred <- predict(fit, X_test)$predictions\n",
    "accuracy <- mean(y_pred == y_test)\n",
    "print(paste(\"Accuracy:\", accuracy))\n",
    "\n",
    "# Replace numerical levels with signature labels in y_test and y_pred\n",
    "signature_labels <- c(\"SBS04\", \"SBS13\")\n",
    "y_test_labels <- factor(signature_labels[y_test + 1], levels = signature_labels)\n",
    "y_pred_labels <- factor(signature_labels[as.numeric(y_pred)], levels = signature_labels)\n",
    "\n",
    "# Output the classification report with signature labels\n",
    "print(\"Classification Report:\")\n",
    "print(table(y_test_labels, y_pred_labels))\n",
    "\n",
    "# Select a smaller subset of X_train for bg_X\n",
    "bg_X <- X_train[sample(seq_len(nrow(X_train)), size = 200), ]\n",
    "\n",
    "# Select a smaller subset of X_test for SHAP calculation\n",
    "X_test_subset <- X_test[sample(seq_len(nrow(X_test)), size = 100), ]\n",
    "\n",
    "# Step 1: Calculate Kernel SHAP values\n",
    "s <- kernelshap(fit, X_test_subset, bg_X = bg_X)\n",
    "\n",
    "# Step 2: Turn them into a shapviz object\n",
    "sv <- shapviz(s)\n",
    "\n",
    "# Step 3: Gain insights\n",
    "sv_importance(sv, kind = \"bar\")\n",
    "sv_dependence(sv, v = \"AAAA\", color_var = \"auto\")\n",
    "\n",
    "## Different Style\n",
    "#sv_importance(sv, kind = \"bee\")\n",
    "#sv_dependence(sv, v = \"AAAA\", color_var = \"auto\")"
   ]
  }
 ],
 "metadata": {
  "language_info": {
   "name": "python"
  }
 },
 "nbformat": 4,
 "nbformat_minor": 2
}
