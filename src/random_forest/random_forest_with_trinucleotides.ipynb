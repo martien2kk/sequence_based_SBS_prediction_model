{
 "cells": [
  {
   "cell_type": "markdown",
   "metadata": {},
   "source": [
    "# Random Forest Model\n",
    "\n",
    "Binary classifier of SBS04 and SBS13  \n",
    "15 bp on either side of the mutation  \n",
    "k-mers = 4  "
   ]
  },
  {
   "cell_type": "markdown",
   "metadata": {},
   "source": [
    "### Load Packages in R"
   ]
  },
  {
   "cell_type": "code",
   "execution_count": 3,
   "metadata": {
    "vscode": {
     "languageId": "r"
    }
   },
   "outputs": [
    {
     "data": {
      "text/html": [
       "'/.mounts/labs/reimandlab/private/users/k2zhang'"
      ],
      "text/latex": [
       "'/.mounts/labs/reimandlab/private/users/k2zhang'"
      ],
      "text/markdown": [
       "'/.mounts/labs/reimandlab/private/users/k2zhang'"
      ],
      "text/plain": [
       "[1] \"/.mounts/labs/reimandlab/private/users/k2zhang\""
      ]
     },
     "metadata": {},
     "output_type": "display_data"
    }
   ],
   "source": [
    "library(Biostrings)\n",
    "library(dplyr)\n",
    "library(ggplot2)\n",
    "library(BSgenome)\n",
    "library(GenomicRanges)\n",
    "library(reshape2)\n",
    "library(xtable)\n",
    "library(tidyr)\n",
    "library(randomForest)\n",
    "library(caret)\n",
    "library(PRROC)\n",
    "library(pROC)\n",
    "library(Rtsne)\n",
    "library(pheatmap)\n",
    "# library(iml)\n",
    "# library(shapr)\n",
    "library(ranger)\n",
    "library(kernelshap)\n",
    "library(shapviz)\n",
    "library(BSgenome.Hsapiens.UCSC.hg19)\n",
    "\n",
    "#get workdir\n",
    "getwd()"
   ]
  },
  {
   "cell_type": "markdown",
   "metadata": {},
   "source": [
    "### Load Data and Count SBS Signatre for the data "
   ]
  },
  {
   "cell_type": "code",
   "execution_count": 4,
   "metadata": {
    "vscode": {
     "languageId": "r"
    }
   },
   "outputs": [
    {
     "data": {
      "image/png": "[encoded data removed]",
      "text/plain": [
       "Plot with title \"Mutation Signature Counts\""
      ]
     },
     "metadata": {
      "image/png": {
       "height": 420,
       "width": 420
      }
     },
     "output_type": "display_data"
    }
   ],
   "source": [
    "# Read mutation file\n",
    "mutation_file <- \"./PCAWG/lung_scc_muts_final.txt\"\n",
    "mutations <- read.table(mutation_file, header = TRUE, stringsAsFactors = FALSE, row.names = NULL)\n",
    "# Read SBS signature file\n",
    "sbs_file <- \"./PCAWG/lung_scc_sig_final.txt\"\n",
    "sbs_signatures <- readLines(sbs_file)\n",
    "# Combine the mutation data and signature data into a single dataframe\n",
    "combined_data <- data.frame(mutations, Signature = sbs_signatures)\n",
    "# combined_data <- head(combined_data, 1000)\n",
    "#How many mutation in the SBS signature\n",
    "# Modify the Signature column\n",
    "combined_data$Signature <- ifelse(combined_data$Signature == \"-\", \"Missing\", paste0(\"SBS\", combined_data$Signature))\n",
    "# Count the number of mutations in each SBS signature\n",
    "signature_counts <- table(combined_data$Signature)\n",
    "# Display the counts\n",
    "# print(signature_counts)\n",
    "# Bar plot for mutation signature counts\n",
    "barplot(signature_counts, \n",
    "        main = \"Mutation Signature Counts\", \n",
    "        xlab = \"Signature\", \n",
    "        ylab = \"Count\", \n",
    "        las = 2,          # Rotate labels to be perpendicular to the axis\n",
    "        cex.names = 0.8)  # Adjust text size of labels"
   ]
  },
  {
   "cell_type": "markdown",
   "metadata": {},
   "source": [
    "Using the barplot above, isolate for the two most abundant, or the two most distinct SBS signatures. That will be used for the binary classifier"
   ]
  },
  {
   "cell_type": "markdown",
   "metadata": {},
   "source": [
    "### Retrieve Flanking Sequences\n",
    "\n",
    "The genomicRanges R package will be used\n",
    "\n",
    "For this example, 15 bp on either side will be used"
   ]
  },
  {
   "cell_type": "code",
   "execution_count": 5,
   "metadata": {
    "vscode": {
     "languageId": "r"
    }
   },
   "outputs": [
    {
     "data": {
      "text/html": [
       "<table class=\"dataframe\">\n",
       "<caption>A data.frame: 6 × 8</caption>\n",
       "<thead>\n",
       "\t<tr><th></th><th scope=col>row.names</th><th scope=col>chr</th><th scope=col>start</th><th scope=col>end</th><th scope=col>ref</th><th scope=col>alt</th><th scope=col>Signature</th><th scope=col>sequences</th></tr>\n",
       "\t<tr><th></th><th scope=col>&lt;chr&gt;</th><th scope=col>&lt;chr&gt;</th><th scope=col>&lt;int&gt;</th><th scope=col>&lt;int&gt;</th><th scope=col>&lt;chr&gt;</th><th scope=col>&lt;chr&gt;</th><th scope=col>&lt;chr&gt;</th><th scope=col>&lt;chr&gt;</th></tr>\n",
       "</thead>\n",
       "<tbody>\n",
       "\t<tr><th scope=row>1</th><td>1</td><td>chr1</td><td> 767037</td><td> 767037</td><td>C</td><td>T</td><td>SBS05</td><td>AGTCATAAATAAACACGATGAATCTATGTAG</td></tr>\n",
       "\t<tr><th scope=row>2</th><td>2</td><td>chr1</td><td> 891028</td><td> 891028</td><td>C</td><td>T</td><td>SBS05</td><td>CTAACCTGGGAAAATCTGAGAGCAAAGGCAG</td></tr>\n",
       "\t<tr><th scope=row>3</th><td>3</td><td>chr1</td><td>1057606</td><td>1057606</td><td>C</td><td>A</td><td>SBS04</td><td>ACAGGCTGGGGCATCCGCGGACCCTCGTCTC</td></tr>\n",
       "\t<tr><th scope=row>4</th><td>4</td><td>chr1</td><td>1123017</td><td>1123017</td><td>A</td><td>G</td><td>SBS05</td><td>TCCATCTCAAAAAACAAAAAAATAAAAATCC</td></tr>\n",
       "\t<tr><th scope=row>5</th><td>5</td><td>chr1</td><td>2795286</td><td>2795286</td><td>C</td><td>T</td><td>SBS05</td><td>CCCTCTGGCCCCTCGCACACAAGCATGGCCA</td></tr>\n",
       "\t<tr><th scope=row>6</th><td>6</td><td>chr1</td><td>2799999</td><td>2799999</td><td>G</td><td>T</td><td>SBS04</td><td>GGCTGAGGCTGCCTGGCCCTGCTGGGACCCT</td></tr>\n",
       "</tbody>\n",
       "</table>\n"
      ],
      "text/latex": [
       "A data.frame: 6 × 8\n",
       "\\begin{tabular}{r|llllllll}\n",
       "  & row.names & chr & start & end & ref & alt & Signature & sequences\\\\\n",
       "  & <chr> & <chr> & <int> & <int> & <chr> & <chr> & <chr> & <chr>\\\\\n",
       "\\hline\n",
       "\t1 & 1 & chr1 &  767037 &  767037 & C & T & SBS05 & AGTCATAAATAAACACGATGAATCTATGTAG\\\\\n",
       "\t2 & 2 & chr1 &  891028 &  891028 & C & T & SBS05 & CTAACCTGGGAAAATCTGAGAGCAAAGGCAG\\\\\n",
       "\t3 & 3 & chr1 & 1057606 & 1057606 & C & A & SBS04 & ACAGGCTGGGGCATCCGCGGACCCTCGTCTC\\\\\n",
       "\t4 & 4 & chr1 & 1123017 & 1123017 & A & G & SBS05 & TCCATCTCAAAAAACAAAAAAATAAAAATCC\\\\\n",
       "\t5 & 5 & chr1 & 2795286 & 2795286 & C & T & SBS05 & CCCTCTGGCCCCTCGCACACAAGCATGGCCA\\\\\n",
       "\t6 & 6 & chr1 & 2799999 & 2799999 & G & T & SBS04 & GGCTGAGGCTGCCTGGCCCTGCTGGGACCCT\\\\\n",
       "\\end{tabular}\n"
      ],
      "text/markdown": [
       "\n",
       "A data.frame: 6 × 8\n",
       "\n",
       "| <!--/--> | row.names &lt;chr&gt; | chr &lt;chr&gt; | start &lt;int&gt; | end &lt;int&gt; | ref &lt;chr&gt; | alt &lt;chr&gt; | Signature &lt;chr&gt; | sequences &lt;chr&gt; |\n",
       "|---|---|---|---|---|---|---|---|---|\n",
       "| 1 | 1 | chr1 |  767037 |  767037 | C | T | SBS05 | AGTCATAAATAAACACGATGAATCTATGTAG |\n",
       "| 2 | 2 | chr1 |  891028 |  891028 | C | T | SBS05 | CTAACCTGGGAAAATCTGAGAGCAAAGGCAG |\n",
       "| 3 | 3 | chr1 | 1057606 | 1057606 | C | A | SBS04 | ACAGGCTGGGGCATCCGCGGACCCTCGTCTC |\n",
       "| 4 | 4 | chr1 | 1123017 | 1123017 | A | G | SBS05 | TCCATCTCAAAAAACAAAAAAATAAAAATCC |\n",
       "| 5 | 5 | chr1 | 2795286 | 2795286 | C | T | SBS05 | CCCTCTGGCCCCTCGCACACAAGCATGGCCA |\n",
       "| 6 | 6 | chr1 | 2799999 | 2799999 | G | T | SBS04 | GGCTGAGGCTGCCTGGCCCTGCTGGGACCCT |\n",
       "\n"
      ],
      "text/plain": [
       "  row.names chr  start   end     ref alt Signature\n",
       "1 1         chr1  767037  767037 C   T   SBS05    \n",
       "2 2         chr1  891028  891028 C   T   SBS05    \n",
       "3 3         chr1 1057606 1057606 C   A   SBS04    \n",
       "4 4         chr1 1123017 1123017 A   G   SBS05    \n",
       "5 5         chr1 2795286 2795286 C   T   SBS05    \n",
       "6 6         chr1 2799999 2799999 G   T   SBS04    \n",
       "  sequences                      \n",
       "1 AGTCATAAATAAACACGATGAATCTATGTAG\n",
       "2 CTAACCTGGGAAAATCTGAGAGCAAAGGCAG\n",
       "3 ACAGGCTGGGGCATCCGCGGACCCTCGTCTC\n",
       "4 TCCATCTCAAAAAACAAAAAAATAAAAATCC\n",
       "5 CCCTCTGGCCCCTCGCACACAAGCATGGCCA\n",
       "6 GGCTGAGGCTGCCTGGCCCTGCTGGGACCCT"
      ]
     },
     "metadata": {},
     "output_type": "display_data"
    }
   ],
   "source": [
    "# Get hg19 reference sequence of GRanges object\n",
    "get_hg19_seq <- function(gr, return.DNAStringSet = FALSE) {\n",
    "  if (return.DNAStringSet) {\n",
    "    return(BSgenome::getSeq(BSgenome.Hsapiens.UCSC.hg19::Hsapiens, gr))\n",
    "  } else {\n",
    "    return(as.character(BSgenome::getSeq(BSgenome.Hsapiens.UCSC.hg19::Hsapiens, gr)))\n",
    "  }\n",
    "}\n",
    "# Create a GRanges object from mutation data\n",
    "mutations_gr <- GRanges(seqnames = combined_data$chr,\n",
    "                         ranges = IRanges(start = combined_data$start - 15,\n",
    "                                          end = combined_data$end + 15))\n",
    "# Extract sequences\n",
    "mutation_sequences <- get_hg19_seq(mutations_gr, return.DNAStringSet = TRUE)\n",
    "# Create names for the sequences\n",
    "sequence_names <- paste(combined_data$chr, combined_data$start, combined_data$end, sep = \":\")\n",
    "# Assign the names to the sequences\n",
    "names(mutation_sequences) <- sequence_names\n",
    "# Save sequences to a file\n",
    "# writeXStringSet(mutation_sequences, filepath = \"mutation_sequences.fa\")\n",
    "# Convert DNAStringSet to a character vector\n",
    "mutation_sequence_vector <- as.character(mutation_sequences)\n",
    "# Add this vector as a new column to combined_data\n",
    "combined_data$sequences <- mutation_sequence_vector\n",
    "\n",
    "head(combined_data)"
   ]
  },
  {
   "cell_type": "markdown",
   "metadata": {},
   "source": [
    "### Filter Data"
   ]
  },
  {
   "cell_type": "code",
   "execution_count": 6,
   "metadata": {
    "vscode": {
     "languageId": "r"
    }
   },
   "outputs": [
    {
     "data": {
      "text/html": [
       "<table class=\"dataframe\">\n",
       "<caption>A data.frame: 10 × 8</caption>\n",
       "<thead>\n",
       "\t<tr><th></th><th scope=col>row.names</th><th scope=col>chr</th><th scope=col>start</th><th scope=col>end</th><th scope=col>ref</th><th scope=col>alt</th><th scope=col>Signature</th><th scope=col>sequences</th></tr>\n",
       "\t<tr><th></th><th scope=col>&lt;chr&gt;</th><th scope=col>&lt;chr&gt;</th><th scope=col>&lt;int&gt;</th><th scope=col>&lt;int&gt;</th><th scope=col>&lt;chr&gt;</th><th scope=col>&lt;chr&gt;</th><th scope=col>&lt;chr&gt;</th><th scope=col>&lt;chr&gt;</th></tr>\n",
       "</thead>\n",
       "<tbody>\n",
       "\t<tr><th scope=row>1835410</th><td>48732</td><td>chrX </td><td>20120801</td><td>20120801</td><td>G</td><td>C</td><td>SBS13</td><td>ACTGGTGAGGCTCTAGATGACAGAGTCTGAC</td></tr>\n",
       "\t<tr><th scope=row>606637</th><td>19478</td><td>chr5 </td><td> 6080645</td><td> 6080645</td><td>G</td><td>T</td><td>SBS04</td><td>GGGAAAAAGACCATAGCTCGGGTCTCGGGGA</td></tr>\n",
       "\t<tr><th scope=row>1689504</th><td>40125</td><td>chr5 </td><td>25248544</td><td>25248544</td><td>C</td><td>A</td><td>SBS04</td><td>CTGGGGTTCCCAGTCCTTGGCCCCCTTACCT</td></tr>\n",
       "\t<tr><th scope=row>1376139</th><td>21048</td><td>chr17</td><td> 1678227</td><td> 1678227</td><td>G</td><td>C</td><td>SBS13</td><td>TTCCCTGAGGCCTCAGAGCCCCTGACAGCTA</td></tr>\n",
       "\t<tr><th scope=row>281158</th><td>7592 </td><td>chr13</td><td>69383505</td><td>69383505</td><td>C</td><td>G</td><td>SBS04</td><td>GCCTGGGCGACAAAGCGAGACTCCGTCTCAA</td></tr>\n",
       "\t<tr><th scope=row>1284459</th><td>32525</td><td>chr4 </td><td> 1767259</td><td> 1767259</td><td>C</td><td>G</td><td>SBS13</td><td>TAGCAAGCTCCTATTCACCCCTGAAGACCCA</td></tr>\n",
       "\t<tr><th scope=row>1675185</th><td>25806</td><td>chr2 </td><td>90032906</td><td>90032906</td><td>C</td><td>G</td><td>SBS13</td><td>CAACCGACTTTACTTCATCTCTTTATCAGCT</td></tr>\n",
       "\t<tr><th scope=row>1724984</th><td>14493</td><td>chr20</td><td>59632613</td><td>59632613</td><td>G</td><td>C</td><td>SBS13</td><td>AGAGGGCTCACAGCAGAATCGCAGCTTCCAC</td></tr>\n",
       "\t<tr><th scope=row>523720</th><td>23076</td><td>chrX </td><td>87349754</td><td>87349754</td><td>C</td><td>A</td><td>SBS04</td><td>TTGACGGGTCTTTTCCTTTTTTTCTGATAAA</td></tr>\n",
       "\t<tr><th scope=row>1791224</th><td>4546 </td><td>chr10</td><td>52980446</td><td>52980446</td><td>G</td><td>C</td><td>SBS13</td><td>AACATTAAAAGGTAAGAATACTTTTTCACTT</td></tr>\n",
       "</tbody>\n",
       "</table>\n"
      ],
      "text/latex": [
       "A data.frame: 10 × 8\n",
       "\\begin{tabular}{r|llllllll}\n",
       "  & row.names & chr & start & end & ref & alt & Signature & sequences\\\\\n",
       "  & <chr> & <chr> & <int> & <int> & <chr> & <chr> & <chr> & <chr>\\\\\n",
       "\\hline\n",
       "\t1835410 & 48732 & chrX  & 20120801 & 20120801 & G & C & SBS13 & ACTGGTGAGGCTCTAGATGACAGAGTCTGAC\\\\\n",
       "\t606637 & 19478 & chr5  &  6080645 &  6080645 & G & T & SBS04 & GGGAAAAAGACCATAGCTCGGGTCTCGGGGA\\\\\n",
       "\t1689504 & 40125 & chr5  & 25248544 & 25248544 & C & A & SBS04 & CTGGGGTTCCCAGTCCTTGGCCCCCTTACCT\\\\\n",
       "\t1376139 & 21048 & chr17 &  1678227 &  1678227 & G & C & SBS13 & TTCCCTGAGGCCTCAGAGCCCCTGACAGCTA\\\\\n",
       "\t281158 & 7592  & chr13 & 69383505 & 69383505 & C & G & SBS04 & GCCTGGGCGACAAAGCGAGACTCCGTCTCAA\\\\\n",
       "\t1284459 & 32525 & chr4  &  1767259 &  1767259 & C & G & SBS13 & TAGCAAGCTCCTATTCACCCCTGAAGACCCA\\\\\n",
       "\t1675185 & 25806 & chr2  & 90032906 & 90032906 & C & G & SBS13 & CAACCGACTTTACTTCATCTCTTTATCAGCT\\\\\n",
       "\t1724984 & 14493 & chr20 & 59632613 & 59632613 & G & C & SBS13 & AGAGGGCTCACAGCAGAATCGCAGCTTCCAC\\\\\n",
       "\t523720 & 23076 & chrX  & 87349754 & 87349754 & C & A & SBS04 & TTGACGGGTCTTTTCCTTTTTTTCTGATAAA\\\\\n",
       "\t1791224 & 4546  & chr10 & 52980446 & 52980446 & G & C & SBS13 & AACATTAAAAGGTAAGAATACTTTTTCACTT\\\\\n",
       "\\end{tabular}\n"
      ],
      "text/markdown": [
       "\n",
       "A data.frame: 10 × 8\n",
       "\n",
       "| <!--/--> | row.names &lt;chr&gt; | chr &lt;chr&gt; | start &lt;int&gt; | end &lt;int&gt; | ref &lt;chr&gt; | alt &lt;chr&gt; | Signature &lt;chr&gt; | sequences &lt;chr&gt; |\n",
       "|---|---|---|---|---|---|---|---|---|\n",
       "| 1835410 | 48732 | chrX  | 20120801 | 20120801 | G | C | SBS13 | ACTGGTGAGGCTCTAGATGACAGAGTCTGAC |\n",
       "| 606637 | 19478 | chr5  |  6080645 |  6080645 | G | T | SBS04 | GGGAAAAAGACCATAGCTCGGGTCTCGGGGA |\n",
       "| 1689504 | 40125 | chr5  | 25248544 | 25248544 | C | A | SBS04 | CTGGGGTTCCCAGTCCTTGGCCCCCTTACCT |\n",
       "| 1376139 | 21048 | chr17 |  1678227 |  1678227 | G | C | SBS13 | TTCCCTGAGGCCTCAGAGCCCCTGACAGCTA |\n",
       "| 281158 | 7592  | chr13 | 69383505 | 69383505 | C | G | SBS04 | GCCTGGGCGACAAAGCGAGACTCCGTCTCAA |\n",
       "| 1284459 | 32525 | chr4  |  1767259 |  1767259 | C | G | SBS13 | TAGCAAGCTCCTATTCACCCCTGAAGACCCA |\n",
       "| 1675185 | 25806 | chr2  | 90032906 | 90032906 | C | G | SBS13 | CAACCGACTTTACTTCATCTCTTTATCAGCT |\n",
       "| 1724984 | 14493 | chr20 | 59632613 | 59632613 | G | C | SBS13 | AGAGGGCTCACAGCAGAATCGCAGCTTCCAC |\n",
       "| 523720 | 23076 | chrX  | 87349754 | 87349754 | C | A | SBS04 | TTGACGGGTCTTTTCCTTTTTTTCTGATAAA |\n",
       "| 1791224 | 4546  | chr10 | 52980446 | 52980446 | G | C | SBS13 | AACATTAAAAGGTAAGAATACTTTTTCACTT |\n",
       "\n"
      ],
      "text/plain": [
       "        row.names chr   start    end      ref alt Signature\n",
       "1835410 48732     chrX  20120801 20120801 G   C   SBS13    \n",
       "606637  19478     chr5   6080645  6080645 G   T   SBS04    \n",
       "1689504 40125     chr5  25248544 25248544 C   A   SBS04    \n",
       "1376139 21048     chr17  1678227  1678227 G   C   SBS13    \n",
       "281158  7592      chr13 69383505 69383505 C   G   SBS04    \n",
       "1284459 32525     chr4   1767259  1767259 C   G   SBS13    \n",
       "1675185 25806     chr2  90032906 90032906 C   G   SBS13    \n",
       "1724984 14493     chr20 59632613 59632613 G   C   SBS13    \n",
       "523720  23076     chrX  87349754 87349754 C   A   SBS04    \n",
       "1791224 4546      chr10 52980446 52980446 G   C   SBS13    \n",
       "        sequences                      \n",
       "1835410 ACTGGTGAGGCTCTAGATGACAGAGTCTGAC\n",
       "606637  GGGAAAAAGACCATAGCTCGGGTCTCGGGGA\n",
       "1689504 CTGGGGTTCCCAGTCCTTGGCCCCCTTACCT\n",
       "1376139 TTCCCTGAGGCCTCAGAGCCCCTGACAGCTA\n",
       "281158  GCCTGGGCGACAAAGCGAGACTCCGTCTCAA\n",
       "1284459 TAGCAAGCTCCTATTCACCCCTGAAGACCCA\n",
       "1675185 CAACCGACTTTACTTCATCTCTTTATCAGCT\n",
       "1724984 AGAGGGCTCACAGCAGAATCGCAGCTTCCAC\n",
       "523720  TTGACGGGTCTTTTCCTTTTTTTCTGATAAA\n",
       "1791224 AACATTAAAAGGTAAGAATACTTTTTCACTT"
      ]
     },
     "metadata": {},
     "output_type": "display_data"
    }
   ],
   "source": [
    "set.seed(2024)\n",
    "\n",
    "# Determine the minimum number of occurrences between SBS013 and SBS04\n",
    "min_count <- min(sum(combined_data$Signature == \"SBS13\"), sum(combined_data$Signature == \"SBS04\"))\n",
    "\n",
    "# Sample the same number of rows for each signature\n",
    "subset_sbs13 <- combined_data[combined_data$Signature == \"SBS13\", ]\n",
    "subset_sbs04 <- combined_data[combined_data$Signature == \"SBS04\", ]\n",
    "\n",
    "# Downsample or upsample to the smaller class size\n",
    "subset_sbs13 <- subset_sbs13[sample(nrow(subset_sbs13), min_count), ]\n",
    "subset_sbs04 <- subset_sbs04[sample(nrow(subset_sbs04), min_count), ]\n",
    "\n",
    "# Combine the two balanced subsets\n",
    "subset_data <- rbind(subset_sbs13, subset_sbs04)\n",
    "\n",
    "# Randomly sample 100,000 rows from the balanced data\n",
    "subset_data <- subset_data[sample(nrow(subset_data), 185100), ]\n",
    "\n",
    "# Check the last 10 rows\n",
    "tail(subset_data, 10)"
   ]
  },
  {
   "cell_type": "markdown",
   "metadata": {},
   "source": [
    "### Generate K-mers\n",
    "\n",
    "Testing with all features as a reference. \n",
    "\n",
    "```generate_canonical_kmers```: function to generate kmers; accounts for compliments using the ```reverseComplement``` function  \n",
    "```k <- 4```: k is set to 4 in this example  \n",
    "```encoded_kmers```: encode k-mers as vectors   \n"
   ]
  },
  {
   "cell_type": "code",
   "execution_count": 7,
   "metadata": {
    "vscode": {
     "languageId": "r"
    }
   },
   "outputs": [],
   "source": [
    "generate_canonical_kmers <- function(sequence, k) {\n",
    "  n <- nchar(sequence)\n",
    "  \n",
    "  # Check if sequence length is less than k\n",
    "  if (((n - 3) / 2) < k) {\n",
    "    stop(\"Sequence length is less than k. Cannot generate k-mers.\")\n",
    "  }\n",
    "  \n",
    "  middle <- n %/% 2  # Assuming mutation site is in the middle\n",
    "  \n",
    "  left_flank <- substr(sequence, 1, middle - 1)\n",
    "  right_flank <- substr(sequence, middle + 3, n)\n",
    "  \n",
    "  kmers_left <- sapply(1:(nchar(left_flank) - k + 1), function(i) {\n",
    "    kmer <- substr(left_flank, i, i + k - 1)\n",
    "    rev_comp <- as.character(reverseComplement(DNAString(kmer)))\n",
    "    return(min(kmer, rev_comp))\n",
    "  })\n",
    "  \n",
    "  kmers_right <- sapply(1:(nchar(right_flank) - k + 1), function(i) {\n",
    "    kmer <- substr(right_flank, i, i + k - 1)\n",
    "    rev_comp <- as.character(reverseComplement(DNAString(kmer)))\n",
    "    return(min(kmer, rev_comp))\n",
    "  })\n",
    "  \n",
    "  return(c(kmers_left, kmers_right))\n",
    "}\n",
    "\n",
    "# Set k value for k-mers\n",
    "k <- 4\n",
    "\n",
    "# Generate canonical k-mers for each sequence in the dataset\n",
    "kmer_list <- lapply(subset_data$sequences, generate_canonical_kmers, k = k)\n",
    "\n",
    "# Get all unique canonical k-mers to create feature space\n",
    "all_kmers <- unique(unlist(kmer_list))\n",
    "\n",
    "# Function to encode k-mers\n",
    "encode_kmers <- function(kmers, all_kmers) {\n",
    "  kmer_table <- table(factor(kmers, levels = all_kmers))\n",
    "  return(as.numeric(kmer_table))\n",
    "}\n",
    "\n",
    "# Encode sequences as k-mer vectors\n",
    "encoded_kmers <- t(sapply(kmer_list, encode_kmers, all_kmers = all_kmers))\n",
    "colnames(encoded_kmers) <- all_kmers\n"
   ]
  },
  {
   "cell_type": "markdown",
   "metadata": {},
   "source": [
    "### Extract Nucleotides and Set Features\n",
    "\n",
    "```ref```: mutation site, midlle nucleotide  \n",
    "```alt```: the nucleotide that the orignal bp mutates to \n",
    "\n",
    "**The alt with not be used for this model in order to compare with the all features model**  \n",
    "\n",
    "```left_nucleotide```: the nucleotide on the left side of the mutation; part of the trinucleotide  \n",
    "```right_nucleotide```: the nucleotide on the right side of the mutation; part of the trinucleotide  \n"
   ]
  },
  {
   "cell_type": "code",
   "execution_count": 8,
   "metadata": {
    "vscode": {
     "languageId": "r"
    }
   },
   "outputs": [
    {
     "data": {
      "text/html": [
       "<table class=\"dataframe\">\n",
       "<caption>A data.frame: 10 × 139</caption>\n",
       "<thead>\n",
       "\t<tr><th></th><th scope=col>AGAG</th><th scope=col>TAGA</th><th scope=col>ATAG</th><th scope=col>AATA</th><th scope=col>ATTC</th><th scope=col>AGAA</th><th scope=col>GAGA</th><th scope=col>CTCC</th><th scope=col>GGGA</th><th scope=col>CCCG</th><th scope=col>...</th><th scope=col>CGAC</th><th scope=col>CGAA</th><th scope=col>CGTA</th><th scope=col>CCGG</th><th scope=col>ACGT</th><th scope=col>TCGA</th><th scope=col>CGCG</th><th scope=col>left_nucleotide</th><th scope=col>right_nucleotide</th><th scope=col>ref</th></tr>\n",
       "\t<tr><th></th><th scope=col>&lt;dbl&gt;</th><th scope=col>&lt;dbl&gt;</th><th scope=col>&lt;dbl&gt;</th><th scope=col>&lt;dbl&gt;</th><th scope=col>&lt;dbl&gt;</th><th scope=col>&lt;dbl&gt;</th><th scope=col>&lt;dbl&gt;</th><th scope=col>&lt;dbl&gt;</th><th scope=col>&lt;dbl&gt;</th><th scope=col>&lt;dbl&gt;</th><th scope=col>...</th><th scope=col>&lt;dbl&gt;</th><th scope=col>&lt;dbl&gt;</th><th scope=col>&lt;dbl&gt;</th><th scope=col>&lt;dbl&gt;</th><th scope=col>&lt;dbl&gt;</th><th scope=col>&lt;dbl&gt;</th><th scope=col>&lt;dbl&gt;</th><th scope=col>&lt;chr&gt;</th><th scope=col>&lt;chr&gt;</th><th scope=col>&lt;chr&gt;</th></tr>\n",
       "</thead>\n",
       "<tbody>\n",
       "\t<tr><th scope=row>744052</th><td>1</td><td>1</td><td>1</td><td>1</td><td>1</td><td>1</td><td>1</td><td>1</td><td>1</td><td>1</td><td>...</td><td>0</td><td>0</td><td>0</td><td>0</td><td>0</td><td>0</td><td>0</td><td>C</td><td>T</td><td>C</td></tr>\n",
       "\t<tr><th scope=row>656950</th><td>0</td><td>0</td><td>0</td><td>0</td><td>0</td><td>0</td><td>0</td><td>0</td><td>0</td><td>0</td><td>...</td><td>0</td><td>0</td><td>0</td><td>0</td><td>0</td><td>0</td><td>0</td><td>C</td><td>A</td><td>C</td></tr>\n",
       "\t<tr><th scope=row>1387443</th><td>1</td><td>0</td><td>0</td><td>0</td><td>0</td><td>0</td><td>0</td><td>1</td><td>1</td><td>0</td><td>...</td><td>0</td><td>0</td><td>0</td><td>0</td><td>0</td><td>0</td><td>0</td><td>A</td><td>C</td><td>A</td></tr>\n",
       "\t<tr><th scope=row>1137865</th><td>0</td><td>0</td><td>0</td><td>1</td><td>0</td><td>0</td><td>0</td><td>0</td><td>0</td><td>0</td><td>...</td><td>0</td><td>0</td><td>0</td><td>0</td><td>0</td><td>0</td><td>0</td><td>G</td><td>G</td><td>G</td></tr>\n",
       "\t<tr><th scope=row>962943</th><td>0</td><td>0</td><td>0</td><td>0</td><td>0</td><td>0</td><td>0</td><td>0</td><td>0</td><td>0</td><td>...</td><td>0</td><td>0</td><td>0</td><td>0</td><td>0</td><td>0</td><td>0</td><td>G</td><td>A</td><td>A</td></tr>\n",
       "\t<tr><th scope=row>1148371</th><td>0</td><td>0</td><td>0</td><td>0</td><td>0</td><td>0</td><td>0</td><td>0</td><td>0</td><td>0</td><td>...</td><td>0</td><td>0</td><td>0</td><td>0</td><td>0</td><td>0</td><td>0</td><td>G</td><td>G</td><td>G</td></tr>\n",
       "\t<tr><th scope=row>938341</th><td>0</td><td>0</td><td>1</td><td>0</td><td>0</td><td>0</td><td>0</td><td>0</td><td>0</td><td>0</td><td>...</td><td>0</td><td>0</td><td>0</td><td>0</td><td>0</td><td>0</td><td>0</td><td>C</td><td>A</td><td>C</td></tr>\n",
       "\t<tr><th scope=row>867574</th><td>0</td><td>0</td><td>0</td><td>0</td><td>0</td><td>0</td><td>0</td><td>0</td><td>0</td><td>0</td><td>...</td><td>0</td><td>0</td><td>0</td><td>0</td><td>0</td><td>0</td><td>0</td><td>G</td><td>C</td><td>C</td></tr>\n",
       "\t<tr><th scope=row>1777966</th><td>0</td><td>0</td><td>0</td><td>0</td><td>2</td><td>0</td><td>0</td><td>0</td><td>0</td><td>0</td><td>...</td><td>0</td><td>0</td><td>0</td><td>0</td><td>0</td><td>0</td><td>0</td><td>T</td><td>T</td><td>C</td></tr>\n",
       "\t<tr><th scope=row>872620</th><td>2</td><td>0</td><td>0</td><td>0</td><td>0</td><td>2</td><td>3</td><td>0</td><td>0</td><td>0</td><td>...</td><td>0</td><td>0</td><td>0</td><td>0</td><td>0</td><td>0</td><td>0</td><td>T</td><td>T</td><td>C</td></tr>\n",
       "</tbody>\n",
       "</table>\n"
      ],
      "text/latex": [
       "A data.frame: 10 × 139\n",
       "\\begin{tabular}{r|lllllllllllllllllllll}\n",
       "  & AGAG & TAGA & ATAG & AATA & ATTC & AGAA & GAGA & CTCC & GGGA & CCCG & ... & CGAC & CGAA & CGTA & CCGG & ACGT & TCGA & CGCG & left\\_nucleotide & right\\_nucleotide & ref\\\\\n",
       "  & <dbl> & <dbl> & <dbl> & <dbl> & <dbl> & <dbl> & <dbl> & <dbl> & <dbl> & <dbl> & ... & <dbl> & <dbl> & <dbl> & <dbl> & <dbl> & <dbl> & <dbl> & <chr> & <chr> & <chr>\\\\\n",
       "\\hline\n",
       "\t744052 & 1 & 1 & 1 & 1 & 1 & 1 & 1 & 1 & 1 & 1 & ... & 0 & 0 & 0 & 0 & 0 & 0 & 0 & C & T & C\\\\\n",
       "\t656950 & 0 & 0 & 0 & 0 & 0 & 0 & 0 & 0 & 0 & 0 & ... & 0 & 0 & 0 & 0 & 0 & 0 & 0 & C & A & C\\\\\n",
       "\t1387443 & 1 & 0 & 0 & 0 & 0 & 0 & 0 & 1 & 1 & 0 & ... & 0 & 0 & 0 & 0 & 0 & 0 & 0 & A & C & A\\\\\n",
       "\t1137865 & 0 & 0 & 0 & 1 & 0 & 0 & 0 & 0 & 0 & 0 & ... & 0 & 0 & 0 & 0 & 0 & 0 & 0 & G & G & G\\\\\n",
       "\t962943 & 0 & 0 & 0 & 0 & 0 & 0 & 0 & 0 & 0 & 0 & ... & 0 & 0 & 0 & 0 & 0 & 0 & 0 & G & A & A\\\\\n",
       "\t1148371 & 0 & 0 & 0 & 0 & 0 & 0 & 0 & 0 & 0 & 0 & ... & 0 & 0 & 0 & 0 & 0 & 0 & 0 & G & G & G\\\\\n",
       "\t938341 & 0 & 0 & 1 & 0 & 0 & 0 & 0 & 0 & 0 & 0 & ... & 0 & 0 & 0 & 0 & 0 & 0 & 0 & C & A & C\\\\\n",
       "\t867574 & 0 & 0 & 0 & 0 & 0 & 0 & 0 & 0 & 0 & 0 & ... & 0 & 0 & 0 & 0 & 0 & 0 & 0 & G & C & C\\\\\n",
       "\t1777966 & 0 & 0 & 0 & 0 & 2 & 0 & 0 & 0 & 0 & 0 & ... & 0 & 0 & 0 & 0 & 0 & 0 & 0 & T & T & C\\\\\n",
       "\t872620 & 2 & 0 & 0 & 0 & 0 & 2 & 3 & 0 & 0 & 0 & ... & 0 & 0 & 0 & 0 & 0 & 0 & 0 & T & T & C\\\\\n",
       "\\end{tabular}\n"
      ],
      "text/markdown": [
       "\n",
       "A data.frame: 10 × 139\n",
       "\n",
       "| <!--/--> | AGAG &lt;dbl&gt; | TAGA &lt;dbl&gt; | ATAG &lt;dbl&gt; | AATA &lt;dbl&gt; | ATTC &lt;dbl&gt; | AGAA &lt;dbl&gt; | GAGA &lt;dbl&gt; | CTCC &lt;dbl&gt; | GGGA &lt;dbl&gt; | CCCG &lt;dbl&gt; | ... ... | CGAC &lt;dbl&gt; | CGAA &lt;dbl&gt; | CGTA &lt;dbl&gt; | CCGG &lt;dbl&gt; | ACGT &lt;dbl&gt; | TCGA &lt;dbl&gt; | CGCG &lt;dbl&gt; | left_nucleotide &lt;chr&gt; | right_nucleotide &lt;chr&gt; | ref &lt;chr&gt; |\n",
       "|---|---|---|---|---|---|---|---|---|---|---|---|---|---|---|---|---|---|---|---|---|---|\n",
       "| 744052 | 1 | 1 | 1 | 1 | 1 | 1 | 1 | 1 | 1 | 1 | ... | 0 | 0 | 0 | 0 | 0 | 0 | 0 | C | T | C |\n",
       "| 656950 | 0 | 0 | 0 | 0 | 0 | 0 | 0 | 0 | 0 | 0 | ... | 0 | 0 | 0 | 0 | 0 | 0 | 0 | C | A | C |\n",
       "| 1387443 | 1 | 0 | 0 | 0 | 0 | 0 | 0 | 1 | 1 | 0 | ... | 0 | 0 | 0 | 0 | 0 | 0 | 0 | A | C | A |\n",
       "| 1137865 | 0 | 0 | 0 | 1 | 0 | 0 | 0 | 0 | 0 | 0 | ... | 0 | 0 | 0 | 0 | 0 | 0 | 0 | G | G | G |\n",
       "| 962943 | 0 | 0 | 0 | 0 | 0 | 0 | 0 | 0 | 0 | 0 | ... | 0 | 0 | 0 | 0 | 0 | 0 | 0 | G | A | A |\n",
       "| 1148371 | 0 | 0 | 0 | 0 | 0 | 0 | 0 | 0 | 0 | 0 | ... | 0 | 0 | 0 | 0 | 0 | 0 | 0 | G | G | G |\n",
       "| 938341 | 0 | 0 | 1 | 0 | 0 | 0 | 0 | 0 | 0 | 0 | ... | 0 | 0 | 0 | 0 | 0 | 0 | 0 | C | A | C |\n",
       "| 867574 | 0 | 0 | 0 | 0 | 0 | 0 | 0 | 0 | 0 | 0 | ... | 0 | 0 | 0 | 0 | 0 | 0 | 0 | G | C | C |\n",
       "| 1777966 | 0 | 0 | 0 | 0 | 2 | 0 | 0 | 0 | 0 | 0 | ... | 0 | 0 | 0 | 0 | 0 | 0 | 0 | T | T | C |\n",
       "| 872620 | 2 | 0 | 0 | 0 | 0 | 2 | 3 | 0 | 0 | 0 | ... | 0 | 0 | 0 | 0 | 0 | 0 | 0 | T | T | C |\n",
       "\n"
      ],
      "text/plain": [
       "        AGAG TAGA ATAG AATA ATTC AGAA GAGA CTCC GGGA CCCG ... CGAC CGAA CGTA\n",
       "744052  1    1    1    1    1    1    1    1    1    1    ... 0    0    0   \n",
       "656950  0    0    0    0    0    0    0    0    0    0    ... 0    0    0   \n",
       "1387443 1    0    0    0    0    0    0    1    1    0    ... 0    0    0   \n",
       "1137865 0    0    0    1    0    0    0    0    0    0    ... 0    0    0   \n",
       "962943  0    0    0    0    0    0    0    0    0    0    ... 0    0    0   \n",
       "1148371 0    0    0    0    0    0    0    0    0    0    ... 0    0    0   \n",
       "938341  0    0    1    0    0    0    0    0    0    0    ... 0    0    0   \n",
       "867574  0    0    0    0    0    0    0    0    0    0    ... 0    0    0   \n",
       "1777966 0    0    0    0    2    0    0    0    0    0    ... 0    0    0   \n",
       "872620  2    0    0    0    0    2    3    0    0    0    ... 0    0    0   \n",
       "        CCGG ACGT TCGA CGCG left_nucleotide right_nucleotide ref\n",
       "744052  0    0    0    0    C               T                C  \n",
       "656950  0    0    0    0    C               A                C  \n",
       "1387443 0    0    0    0    A               C                A  \n",
       "1137865 0    0    0    0    G               G                G  \n",
       "962943  0    0    0    0    G               A                A  \n",
       "1148371 0    0    0    0    G               G                G  \n",
       "938341  0    0    0    0    C               A                C  \n",
       "867574  0    0    0    0    G               C                C  \n",
       "1777966 0    0    0    0    T               T                C  \n",
       "872620  0    0    0    0    T               T                C  "
      ]
     },
     "metadata": {},
     "output_type": "display_data"
    }
   ],
   "source": [
    "# Function to extract the flanking nucleotides and the ref nucleotide\n",
    "extract_features <- function(sequence, ref) {\n",
    "  n <- nchar(sequence)\n",
    "  middle <- n %/% 2  # Assuming mutation site is in the middle\n",
    "  left_flank_nucleotide <- substr(sequence, middle, middle)\n",
    "  right_flank_nucleotide <- substr(sequence, middle + 2, middle + 2)\n",
    "  return(c(left_flank_nucleotide, right_flank_nucleotide, ref))\n",
    "}\n",
    "\n",
    "# Apply the function to extract the features for each row in the dataset\n",
    "flanking_nucleotides <- t(apply(subset_data, 1, function(row) {\n",
    "  extract_features(row[\"sequences\"], row[\"ref\"])\n",
    "}))\n",
    "\n",
    "# Convert the extracted features to a dataframe\n",
    "flanking_nucleotides_df <- as.data.frame(flanking_nucleotides, stringsAsFactors = FALSE)\n",
    "colnames(flanking_nucleotides_df) <- c(\"left_nucleotide\", \"right_nucleotide\", \"ref\")\n",
    "\n",
    "# Create the feature matrix\n",
    "X <- as.data.frame(encoded_kmers)\n",
    "X <- cbind(X, flanking_nucleotides_df)\n",
    "head(X,10)\n",
    "\n",
    "# Encode the flanking nucleotides and alt features as factors\n",
    "X$left_nucleotide <- as.factor(X$left_nucleotide)\n",
    "X$right_nucleotide <- as.factor(X$right_nucleotide)\n",
    "# X$alt <- as.factor(X$alt)\n",
    "X$ref <- as.factor(X$ref)\n",
    "\n",
    "\n",
    "# Encode the target variable\n",
    "y <- as.integer(factor(subset_data$Signature, levels = c(\"SBS04\", \"SBS13\"))) - 1  # Encode SBS04 as 0 and SBS13 as 1\n",
    "\n",
    "# Split data into train and test sets\n",
    "set.seed(2024)  # for reproducibility\n",
    "train_indices <- sample(seq_len(nrow(X)), size = 0.8 * nrow(X))\n",
    "X_train <- X[train_indices, ]\n",
    "y_train <- y[train_indices]\n",
    "X_test <- X[-train_indices, ]\n",
    "y_test <- y[-train_indices]\n"
   ]
  },
  {
   "cell_type": "markdown",
   "metadata": {},
   "source": [
    "### Calculating SHAP score"
   ]
  },
  {
   "cell_type": "code",
   "execution_count": 9,
   "metadata": {
    "vscode": {
     "languageId": "r"
    }
   },
   "outputs": [
    {
     "name": "stdout",
     "output_type": "stream",
     "text": [
      "Growing trees.. Progress: 87%. Estimated remaining time: 4 seconds.\n",
      "[1] \"Accuracy: 0.890977849810913\"\n",
      "[1] \"Classification Report:\"\n",
      "             y_pred_labels\n",
      "y_test_labels SBS04 SBS13\n",
      "        SBS04 15121  3310\n",
      "        SBS13   726 17863\n"
     ]
    },
    {
     "name": "stderr",
     "output_type": "stream",
     "text": [
      "Kernel SHAP values by the hybrid strategy of degree 1\n",
      "\n"
     ]
    },
    {
     "name": "stdout",
     "output_type": "stream",
     "text": [
      "  |======================================================================| 100%"
     ]
    },
    {
     "data": {
      "image/png": "[encoded data removed]",
      "text/plain": [
       "plot without title"
      ]
     },
     "metadata": {
      "image/png": {
       "height": 420,
       "width": 420
      }
     },
     "output_type": "display_data"
    },
    {
     "data": {
      "image/png": "[encoded data removed]",
      "text/plain": [
       "plot without title"
      ]
     },
     "metadata": {
      "image/png": {
       "height": 420,
       "width": 420
      }
     },
     "output_type": "display_data"
    }
   ],
   "source": [
    "# Fitting the model\n",
    "fit <- ranger(as.factor(y_train) ~ ., data = X_train, num.trees = 100)  # Reduce number of trees for faster training\n",
    "\n",
    "# Model predictions and evaluation\n",
    "y_pred <- predict(fit, X_test)$predictions\n",
    "accuracy <- mean(y_pred == y_test)\n",
    "print(paste(\"Accuracy:\", accuracy))\n",
    "\n",
    "# Replace numerical levels with signature labels in y_test and y_pred\n",
    "signature_labels <- c(\"SBS04\", \"SBS13\")\n",
    "y_test_labels <- factor(signature_labels[y_test + 1], levels = signature_labels)\n",
    "y_pred_labels <- factor(signature_labels[as.numeric(y_pred)], levels = signature_labels)\n",
    "\n",
    "# Output the classification report with signature labels\n",
    "print(\"Classification Report:\")\n",
    "print(table(y_test_labels, y_pred_labels))\n",
    "\n",
    "# Select a smaller subset of X_train for bg_X\n",
    "bg_X <- X_train[sample(seq_len(nrow(X_train)), size = 200), ]\n",
    "\n",
    "# Select a smaller subset of X_test for SHAP calculation\n",
    "X_test_subset <- X_test[sample(seq_len(nrow(X_test)), size = 100), ]\n",
    "\n",
    "# Step 1: Calculate Kernel SHAP values\n",
    "s <- kernelshap(fit, X_test_subset, bg_X = bg_X)\n",
    "\n",
    "# Step 2: Turn them into a shapviz object\n",
    "sv <- shapviz(s)\n",
    "\n",
    "# Step 3: Gain insights\n",
    "sv_importance(sv, kind = \"bar\")\n",
    "sv_dependence(sv, v = \"AAAA\", color_var = \"auto\")\n",
    "\n",
    "## Different Style\n",
    "#sv_importance(sv, kind = \"bee\")\n",
    "#sv_dependence(sv, v = \"AAAA\", color_var = \"auto\")"
   ]
  },
  {
   "cell_type": "markdown",
   "metadata": {},
   "source": [
    "### Test the Model Again Without Ref\n",
    "\n",
    "```ref```: mutation site, midlle nucleotide  \n",
    "```alt```: the nucleotide that the orignal bp mutates to \n",
    "\n",
    "**The alt and ref with not be used for this model in order to compare with the all features model**  \n",
    "\n",
    "```left_nucleotide```: the nucleotide on the left side of the mutation; part of the trinucleotide  \n",
    "```right_nucleotide```: the nucleotide on the right side of the mutation; part of the trinucleotide  \n"
   ]
  },
  {
   "cell_type": "code",
   "execution_count": 10,
   "metadata": {
    "vscode": {
     "languageId": "r"
    }
   },
   "outputs": [
    {
     "data": {
      "text/html": [
       "<table class=\"dataframe\">\n",
       "<caption>A data.frame: 10 × 138</caption>\n",
       "<thead>\n",
       "\t<tr><th></th><th scope=col>AGAG</th><th scope=col>TAGA</th><th scope=col>ATAG</th><th scope=col>AATA</th><th scope=col>ATTC</th><th scope=col>AGAA</th><th scope=col>GAGA</th><th scope=col>CTCC</th><th scope=col>GGGA</th><th scope=col>CCCG</th><th scope=col>...</th><th scope=col>ACGA</th><th scope=col>CGAC</th><th scope=col>CGAA</th><th scope=col>CGTA</th><th scope=col>CCGG</th><th scope=col>ACGT</th><th scope=col>TCGA</th><th scope=col>CGCG</th><th scope=col>left_nucleotide</th><th scope=col>right_nucleotide</th></tr>\n",
       "\t<tr><th></th><th scope=col>&lt;dbl&gt;</th><th scope=col>&lt;dbl&gt;</th><th scope=col>&lt;dbl&gt;</th><th scope=col>&lt;dbl&gt;</th><th scope=col>&lt;dbl&gt;</th><th scope=col>&lt;dbl&gt;</th><th scope=col>&lt;dbl&gt;</th><th scope=col>&lt;dbl&gt;</th><th scope=col>&lt;dbl&gt;</th><th scope=col>&lt;dbl&gt;</th><th scope=col>...</th><th scope=col>&lt;dbl&gt;</th><th scope=col>&lt;dbl&gt;</th><th scope=col>&lt;dbl&gt;</th><th scope=col>&lt;dbl&gt;</th><th scope=col>&lt;dbl&gt;</th><th scope=col>&lt;dbl&gt;</th><th scope=col>&lt;dbl&gt;</th><th scope=col>&lt;dbl&gt;</th><th scope=col>&lt;chr&gt;</th><th scope=col>&lt;chr&gt;</th></tr>\n",
       "</thead>\n",
       "<tbody>\n",
       "\t<tr><th scope=row>744052</th><td>1</td><td>1</td><td>1</td><td>1</td><td>1</td><td>1</td><td>1</td><td>1</td><td>1</td><td>1</td><td>...</td><td>0</td><td>0</td><td>0</td><td>0</td><td>0</td><td>0</td><td>0</td><td>0</td><td>C</td><td>T</td></tr>\n",
       "\t<tr><th scope=row>656950</th><td>0</td><td>0</td><td>0</td><td>0</td><td>0</td><td>0</td><td>0</td><td>0</td><td>0</td><td>0</td><td>...</td><td>0</td><td>0</td><td>0</td><td>0</td><td>0</td><td>0</td><td>0</td><td>0</td><td>C</td><td>A</td></tr>\n",
       "\t<tr><th scope=row>1387443</th><td>1</td><td>0</td><td>0</td><td>0</td><td>0</td><td>0</td><td>0</td><td>1</td><td>1</td><td>0</td><td>...</td><td>0</td><td>0</td><td>0</td><td>0</td><td>0</td><td>0</td><td>0</td><td>0</td><td>A</td><td>C</td></tr>\n",
       "\t<tr><th scope=row>1137865</th><td>0</td><td>0</td><td>0</td><td>1</td><td>0</td><td>0</td><td>0</td><td>0</td><td>0</td><td>0</td><td>...</td><td>0</td><td>0</td><td>0</td><td>0</td><td>0</td><td>0</td><td>0</td><td>0</td><td>G</td><td>G</td></tr>\n",
       "\t<tr><th scope=row>962943</th><td>0</td><td>0</td><td>0</td><td>0</td><td>0</td><td>0</td><td>0</td><td>0</td><td>0</td><td>0</td><td>...</td><td>0</td><td>0</td><td>0</td><td>0</td><td>0</td><td>0</td><td>0</td><td>0</td><td>G</td><td>A</td></tr>\n",
       "\t<tr><th scope=row>1148371</th><td>0</td><td>0</td><td>0</td><td>0</td><td>0</td><td>0</td><td>0</td><td>0</td><td>0</td><td>0</td><td>...</td><td>0</td><td>0</td><td>0</td><td>0</td><td>0</td><td>0</td><td>0</td><td>0</td><td>G</td><td>G</td></tr>\n",
       "\t<tr><th scope=row>938341</th><td>0</td><td>0</td><td>1</td><td>0</td><td>0</td><td>0</td><td>0</td><td>0</td><td>0</td><td>0</td><td>...</td><td>0</td><td>0</td><td>0</td><td>0</td><td>0</td><td>0</td><td>0</td><td>0</td><td>C</td><td>A</td></tr>\n",
       "\t<tr><th scope=row>867574</th><td>0</td><td>0</td><td>0</td><td>0</td><td>0</td><td>0</td><td>0</td><td>0</td><td>0</td><td>0</td><td>...</td><td>0</td><td>0</td><td>0</td><td>0</td><td>0</td><td>0</td><td>0</td><td>0</td><td>G</td><td>C</td></tr>\n",
       "\t<tr><th scope=row>1777966</th><td>0</td><td>0</td><td>0</td><td>0</td><td>2</td><td>0</td><td>0</td><td>0</td><td>0</td><td>0</td><td>...</td><td>0</td><td>0</td><td>0</td><td>0</td><td>0</td><td>0</td><td>0</td><td>0</td><td>T</td><td>T</td></tr>\n",
       "\t<tr><th scope=row>872620</th><td>2</td><td>0</td><td>0</td><td>0</td><td>0</td><td>2</td><td>3</td><td>0</td><td>0</td><td>0</td><td>...</td><td>0</td><td>0</td><td>0</td><td>0</td><td>0</td><td>0</td><td>0</td><td>0</td><td>T</td><td>T</td></tr>\n",
       "</tbody>\n",
       "</table>\n"
      ],
      "text/latex": [
       "A data.frame: 10 × 138\n",
       "\\begin{tabular}{r|lllllllllllllllllllll}\n",
       "  & AGAG & TAGA & ATAG & AATA & ATTC & AGAA & GAGA & CTCC & GGGA & CCCG & ... & ACGA & CGAC & CGAA & CGTA & CCGG & ACGT & TCGA & CGCG & left\\_nucleotide & right\\_nucleotide\\\\\n",
       "  & <dbl> & <dbl> & <dbl> & <dbl> & <dbl> & <dbl> & <dbl> & <dbl> & <dbl> & <dbl> & ... & <dbl> & <dbl> & <dbl> & <dbl> & <dbl> & <dbl> & <dbl> & <dbl> & <chr> & <chr>\\\\\n",
       "\\hline\n",
       "\t744052 & 1 & 1 & 1 & 1 & 1 & 1 & 1 & 1 & 1 & 1 & ... & 0 & 0 & 0 & 0 & 0 & 0 & 0 & 0 & C & T\\\\\n",
       "\t656950 & 0 & 0 & 0 & 0 & 0 & 0 & 0 & 0 & 0 & 0 & ... & 0 & 0 & 0 & 0 & 0 & 0 & 0 & 0 & C & A\\\\\n",
       "\t1387443 & 1 & 0 & 0 & 0 & 0 & 0 & 0 & 1 & 1 & 0 & ... & 0 & 0 & 0 & 0 & 0 & 0 & 0 & 0 & A & C\\\\\n",
       "\t1137865 & 0 & 0 & 0 & 1 & 0 & 0 & 0 & 0 & 0 & 0 & ... & 0 & 0 & 0 & 0 & 0 & 0 & 0 & 0 & G & G\\\\\n",
       "\t962943 & 0 & 0 & 0 & 0 & 0 & 0 & 0 & 0 & 0 & 0 & ... & 0 & 0 & 0 & 0 & 0 & 0 & 0 & 0 & G & A\\\\\n",
       "\t1148371 & 0 & 0 & 0 & 0 & 0 & 0 & 0 & 0 & 0 & 0 & ... & 0 & 0 & 0 & 0 & 0 & 0 & 0 & 0 & G & G\\\\\n",
       "\t938341 & 0 & 0 & 1 & 0 & 0 & 0 & 0 & 0 & 0 & 0 & ... & 0 & 0 & 0 & 0 & 0 & 0 & 0 & 0 & C & A\\\\\n",
       "\t867574 & 0 & 0 & 0 & 0 & 0 & 0 & 0 & 0 & 0 & 0 & ... & 0 & 0 & 0 & 0 & 0 & 0 & 0 & 0 & G & C\\\\\n",
       "\t1777966 & 0 & 0 & 0 & 0 & 2 & 0 & 0 & 0 & 0 & 0 & ... & 0 & 0 & 0 & 0 & 0 & 0 & 0 & 0 & T & T\\\\\n",
       "\t872620 & 2 & 0 & 0 & 0 & 0 & 2 & 3 & 0 & 0 & 0 & ... & 0 & 0 & 0 & 0 & 0 & 0 & 0 & 0 & T & T\\\\\n",
       "\\end{tabular}\n"
      ],
      "text/markdown": [
       "\n",
       "A data.frame: 10 × 138\n",
       "\n",
       "| <!--/--> | AGAG &lt;dbl&gt; | TAGA &lt;dbl&gt; | ATAG &lt;dbl&gt; | AATA &lt;dbl&gt; | ATTC &lt;dbl&gt; | AGAA &lt;dbl&gt; | GAGA &lt;dbl&gt; | CTCC &lt;dbl&gt; | GGGA &lt;dbl&gt; | CCCG &lt;dbl&gt; | ... ... | ACGA &lt;dbl&gt; | CGAC &lt;dbl&gt; | CGAA &lt;dbl&gt; | CGTA &lt;dbl&gt; | CCGG &lt;dbl&gt; | ACGT &lt;dbl&gt; | TCGA &lt;dbl&gt; | CGCG &lt;dbl&gt; | left_nucleotide &lt;chr&gt; | right_nucleotide &lt;chr&gt; |\n",
       "|---|---|---|---|---|---|---|---|---|---|---|---|---|---|---|---|---|---|---|---|---|---|\n",
       "| 744052 | 1 | 1 | 1 | 1 | 1 | 1 | 1 | 1 | 1 | 1 | ... | 0 | 0 | 0 | 0 | 0 | 0 | 0 | 0 | C | T |\n",
       "| 656950 | 0 | 0 | 0 | 0 | 0 | 0 | 0 | 0 | 0 | 0 | ... | 0 | 0 | 0 | 0 | 0 | 0 | 0 | 0 | C | A |\n",
       "| 1387443 | 1 | 0 | 0 | 0 | 0 | 0 | 0 | 1 | 1 | 0 | ... | 0 | 0 | 0 | 0 | 0 | 0 | 0 | 0 | A | C |\n",
       "| 1137865 | 0 | 0 | 0 | 1 | 0 | 0 | 0 | 0 | 0 | 0 | ... | 0 | 0 | 0 | 0 | 0 | 0 | 0 | 0 | G | G |\n",
       "| 962943 | 0 | 0 | 0 | 0 | 0 | 0 | 0 | 0 | 0 | 0 | ... | 0 | 0 | 0 | 0 | 0 | 0 | 0 | 0 | G | A |\n",
       "| 1148371 | 0 | 0 | 0 | 0 | 0 | 0 | 0 | 0 | 0 | 0 | ... | 0 | 0 | 0 | 0 | 0 | 0 | 0 | 0 | G | G |\n",
       "| 938341 | 0 | 0 | 1 | 0 | 0 | 0 | 0 | 0 | 0 | 0 | ... | 0 | 0 | 0 | 0 | 0 | 0 | 0 | 0 | C | A |\n",
       "| 867574 | 0 | 0 | 0 | 0 | 0 | 0 | 0 | 0 | 0 | 0 | ... | 0 | 0 | 0 | 0 | 0 | 0 | 0 | 0 | G | C |\n",
       "| 1777966 | 0 | 0 | 0 | 0 | 2 | 0 | 0 | 0 | 0 | 0 | ... | 0 | 0 | 0 | 0 | 0 | 0 | 0 | 0 | T | T |\n",
       "| 872620 | 2 | 0 | 0 | 0 | 0 | 2 | 3 | 0 | 0 | 0 | ... | 0 | 0 | 0 | 0 | 0 | 0 | 0 | 0 | T | T |\n",
       "\n"
      ],
      "text/plain": [
       "        AGAG TAGA ATAG AATA ATTC AGAA GAGA CTCC GGGA CCCG ... ACGA CGAC CGAA\n",
       "744052  1    1    1    1    1    1    1    1    1    1    ... 0    0    0   \n",
       "656950  0    0    0    0    0    0    0    0    0    0    ... 0    0    0   \n",
       "1387443 1    0    0    0    0    0    0    1    1    0    ... 0    0    0   \n",
       "1137865 0    0    0    1    0    0    0    0    0    0    ... 0    0    0   \n",
       "962943  0    0    0    0    0    0    0    0    0    0    ... 0    0    0   \n",
       "1148371 0    0    0    0    0    0    0    0    0    0    ... 0    0    0   \n",
       "938341  0    0    1    0    0    0    0    0    0    0    ... 0    0    0   \n",
       "867574  0    0    0    0    0    0    0    0    0    0    ... 0    0    0   \n",
       "1777966 0    0    0    0    2    0    0    0    0    0    ... 0    0    0   \n",
       "872620  2    0    0    0    0    2    3    0    0    0    ... 0    0    0   \n",
       "        CGTA CCGG ACGT TCGA CGCG left_nucleotide right_nucleotide\n",
       "744052  0    0    0    0    0    C               T               \n",
       "656950  0    0    0    0    0    C               A               \n",
       "1387443 0    0    0    0    0    A               C               \n",
       "1137865 0    0    0    0    0    G               G               \n",
       "962943  0    0    0    0    0    G               A               \n",
       "1148371 0    0    0    0    0    G               G               \n",
       "938341  0    0    0    0    0    C               A               \n",
       "867574  0    0    0    0    0    G               C               \n",
       "1777966 0    0    0    0    0    T               T               \n",
       "872620  0    0    0    0    0    T               T               "
      ]
     },
     "metadata": {},
     "output_type": "display_data"
    }
   ],
   "source": [
    "# Function to extract the flanking nucleotides and the ref nucleotide\n",
    "extract_features <- function(sequence) {\n",
    "  n <- nchar(sequence)\n",
    "  middle <- n %/% 2  # Assuming mutation site is in the middle\n",
    "  left_flank_nucleotide <- substr(sequence, middle, middle)\n",
    "  right_flank_nucleotide <- substr(sequence, middle + 2, middle + 2)\n",
    "  return(c(left_flank_nucleotide, right_flank_nucleotide))\n",
    "}\n",
    "\n",
    "# Apply the function to extract the features for each row in the dataset\n",
    "flanking_nucleotides <- t(apply(subset_data, 1, function(row) {\n",
    "  extract_features(row[\"sequences\"])\n",
    "}))\n",
    "\n",
    "# Convert the extracted features to a dataframe\n",
    "flanking_nucleotides_df <- as.data.frame(flanking_nucleotides, stringsAsFactors = FALSE)\n",
    "colnames(flanking_nucleotides_df) <- c(\"left_nucleotide\", \"right_nucleotide\")\n",
    "\n",
    "# Create the feature matrix\n",
    "X <- as.data.frame(encoded_kmers)\n",
    "X <- cbind(X, flanking_nucleotides_df)\n",
    "head(X,10)\n",
    "\n",
    "# Encode the flanking nucleotides and alt features as factors\n",
    "X$left_nucleotide <- as.factor(X$left_nucleotide)\n",
    "X$right_nucleotide <- as.factor(X$right_nucleotide)\n",
    "# X$alt <- as.factor(X$alt)\n",
    "# X$ref <- as.factor(X$ref)\n",
    "\n",
    "\n",
    "# Encode the target variable\n",
    "y <- as.integer(factor(subset_data$Signature, levels = c(\"SBS04\", \"SBS13\"))) - 1  # Encode SBS04 as 0 and SBS13 as 1\n",
    "\n",
    "# Split data into train and test sets\n",
    "set.seed(2024)  # for reproducibility\n",
    "train_indices <- sample(seq_len(nrow(X)), size = 0.8 * nrow(X))\n",
    "X_train <- X[train_indices, ]\n",
    "y_train <- y[train_indices]\n",
    "X_test <- X[-train_indices, ]\n",
    "y_test <- y[-train_indices]\n"
   ]
  },
  {
   "cell_type": "markdown",
   "metadata": {},
   "source": [
    "### Calculating SHAP Score"
   ]
  },
  {
   "cell_type": "code",
   "execution_count": 11,
   "metadata": {
    "vscode": {
     "languageId": "r"
    }
   },
   "outputs": [
    {
     "name": "stdout",
     "output_type": "stream",
     "text": [
      "Growing trees.. Progress: 74%. Estimated remaining time: 10 seconds.\n",
      "[1] \"Accuracy: 0.784764991896272\"\n",
      "[1] \"Classification Report:\"\n",
      "             y_pred_labels\n",
      "y_test_labels SBS04 SBS13\n",
      "        SBS04 13185  5246\n",
      "        SBS13  2722 15867\n"
     ]
    },
    {
     "name": "stderr",
     "output_type": "stream",
     "text": [
      "Kernel SHAP values by the hybrid strategy of degree 1\n",
      "\n"
     ]
    },
    {
     "name": "stdout",
     "output_type": "stream",
     "text": [
      "  |======================================================================| 100%"
     ]
    },
    {
     "data": {
      "image/png": "[encoded data removed]",
      "text/plain": [
       "plot without title"
      ]
     },
     "metadata": {
      "image/png": {
       "height": 420,
       "width": 420
      }
     },
     "output_type": "display_data"
    },
    {
     "data": {
      "image/png": "[encoded data removed]",
      "text/plain": [
       "plot without title"
      ]
     },
     "metadata": {
      "image/png": {
       "height": 420,
       "width": 420
      }
     },
     "output_type": "display_data"
    }
   ],
   "source": [
    "# Fitting the model\n",
    "fit <- ranger(as.factor(y_train) ~ ., data = X_train, num.trees = 100)  # Reduce number of trees for faster training\n",
    "\n",
    "# Model predictions and evaluation\n",
    "y_pred <- predict(fit, X_test)$predictions\n",
    "accuracy <- mean(y_pred == y_test)\n",
    "print(paste(\"Accuracy:\", accuracy))\n",
    "\n",
    "# Replace numerical levels with signature labels in y_test and y_pred\n",
    "signature_labels <- c(\"SBS04\", \"SBS13\")\n",
    "y_test_labels <- factor(signature_labels[y_test + 1], levels = signature_labels)\n",
    "y_pred_labels <- factor(signature_labels[as.numeric(y_pred)], levels = signature_labels)\n",
    "\n",
    "# Output the classification report with signature labels\n",
    "print(\"Classification Report:\")\n",
    "print(table(y_test_labels, y_pred_labels))\n",
    "\n",
    "# Select a smaller subset of X_train for bg_X\n",
    "bg_X <- X_train[sample(seq_len(nrow(X_train)), size = 200), ]\n",
    "\n",
    "# Select a smaller subset of X_test for SHAP calculation\n",
    "X_test_subset <- X_test[sample(seq_len(nrow(X_test)), size = 100), ]\n",
    "\n",
    "# Step 1: Calculate Kernel SHAP values\n",
    "s <- kernelshap(fit, X_test_subset, bg_X = bg_X)\n",
    "\n",
    "# Step 2: Turn them into a shapviz object\n",
    "sv <- shapviz(s)\n",
    "\n",
    "# Step 3: Gain insights\n",
    "sv_importance(sv, kind = \"bar\")\n",
    "sv_dependence(sv, v = \"AAAA\", color_var = \"auto\")\n",
    "\n",
    "## Different Style\n",
    "#sv_importance(sv, kind = \"bee\")\n",
    "#sv_dependence(sv, v = \"AAAA\", color_var = \"auto\")"
   ]
  }
 ],
 "metadata": {
  "kernelspec": {
   "display_name": "R",
   "language": "R",
   "name": "ir"
  },
  "language_info": {
   "codemirror_mode": "r",
   "file_extension": ".r",
   "mimetype": "text/x-r-source",
   "name": "R",
   "pygments_lexer": "r",
   "version": "4.1.3"
  }
 },
 "nbformat": 4,
 "nbformat_minor": 2
}
